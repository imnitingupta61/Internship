{
 "cells": [
  {
   "cell_type": "markdown",
   "id": "f309cb78",
   "metadata": {},
   "source": [
    "# ****** Factorial of a Number *******"
   ]
  },
  {
   "cell_type": "code",
   "execution_count": 4,
   "id": "3f756d19",
   "metadata": {},
   "outputs": [
    {
     "name": "stdout",
     "output_type": "stream",
     "text": [
      "Please enter a number you want factorial of that: 4\n",
      "The factorial of 4 is:  24\n"
     ]
    }
   ],
   "source": [
    "num = int(input(\"Please enter a number you want factorial of that: \"))\n",
    "\n",
    "fact =1\n",
    "\n",
    "for i in range(1, num+1):\n",
    "    fact= fact*i\n",
    "    \n",
    "print(\"The factorial of\", num, \"is: \", fact)"
   ]
  },
  {
   "cell_type": "markdown",
   "id": "5163ffcf",
   "metadata": {},
   "source": [
    "# ***** Finding a number is Prime on Composite*****"
   ]
  },
  {
   "cell_type": "code",
   "execution_count": 35,
   "id": "096f6384",
   "metadata": {},
   "outputs": [
    {
     "name": "stdout",
     "output_type": "stream",
     "text": [
      "Please enter a number which you want is prime or composite: 56\n",
      "56 is a Composite Number\n"
     ]
    }
   ],
   "source": [
    "num = int(input(\"Please enter a number which you want is prime or composite: \"))\n",
    "\n",
    "if(num==2 or num==3):\n",
    "    print(num, \"is a Prime Number\")\n",
    "elif(num%2 ==0 or num%3 ==0):\n",
    "    print(num, \"is a Composite Number\")\n",
    "else:\n",
    "    print(num, \"is a Prime Number\")"
   ]
  },
  {
   "cell_type": "markdown",
   "id": "2e36c0a3",
   "metadata": {},
   "source": [
    "# *** Finding a String is Palindrome or Not***"
   ]
  },
  {
   "cell_type": "code",
   "execution_count": 40,
   "id": "6d9e8a90",
   "metadata": {},
   "outputs": [
    {
     "name": "stdout",
     "output_type": "stream",
     "text": [
      "Enter Any string which you want Palindrome or Not?: noon\n",
      "noon is a Palindrome String\n"
     ]
    }
   ],
   "source": [
    "Str = input(\"Enter Any string which you want Palindrome or Not?: \")\n",
    "\n",
    "newStr = Str[::-1]\n",
    "\n",
    "if(Str ==newStr):\n",
    "    print(Str, \"is a Palindrome String\")\n",
    "    \n",
    "else:\n",
    "    print(Str, \"is not a Palindrome String\")"
   ]
  },
  {
   "cell_type": "markdown",
   "id": "c42101a5",
   "metadata": {},
   "source": [
    "# *** Finding the third side of Right angle triangle***"
   ]
  },
  {
   "cell_type": "code",
   "execution_count": 77,
   "id": "6ba7efbb",
   "metadata": {},
   "outputs": [
    {
     "name": "stdout",
     "output_type": "stream",
     "text": [
      "Enter opposite side of a right-angeled triangle: 6\n",
      "Enter adjecent side of a right-angeled triangle: 8\n",
      "The Hypotenuse side of right angeled triangle where two sides are 6 and 8 is:  10.0\n"
     ]
    }
   ],
   "source": [
    "opp= int(input(\"Enter opposite side of a right-angeled triangle: \"))\n",
    "adjc= int(input(\"Enter adjecent side of a right-angeled triangle: \"))\n",
    "\n",
    "hypo = ((opp**2) + (adjc**2))**(1/2)\n",
    "\n",
    "print(\"The Hypotenuse side of right angeled triangle where two sides are\" , opp, \"and\", adjc, \"is: \", hypo)\n"
   ]
  },
  {
   "cell_type": "markdown",
   "id": "1be2d5ef",
   "metadata": {},
   "source": [
    "# ** Finding the Frequency of character in a given String**"
   ]
  },
  {
   "cell_type": "code",
   "execution_count": 98,
   "id": "f6e7bc1a",
   "metadata": {},
   "outputs": [
    {
     "name": "stdout",
     "output_type": "stream",
     "text": [
      "Enter any String: coimbtoreissoon\n",
      "The lenght of a given string is: 15\n",
      "Enter any character you want frequency of entered string by you: o\n",
      "The Frequency of o is 4\n",
      "Below are the frequency of each and every character present in the entered string by you\n",
      "Frequency of c is: 1\n",
      "Frequency of o is: 4\n",
      "Frequency of i is: 2\n",
      "Frequency of m is: 1\n",
      "Frequency of b is: 1\n",
      "Frequency of t is: 1\n",
      "Frequency of o is: 4\n",
      "Frequency of r is: 1\n",
      "Frequency of e is: 1\n",
      "Frequency of i is: 2\n",
      "Frequency of s is: 2\n",
      "Frequency of s is: 2\n",
      "Frequency of o is: 4\n",
      "Frequency of o is: 4\n",
      "Frequency of n is: 1\n"
     ]
    }
   ],
   "source": [
    "St = input(\"Enter any String: \")\n",
    "leng= len(St)\n",
    "print(\"The lenght of a given string is:\", leng) \n",
    "\n",
    "Ch = input(\"Enter any character you want frequency of entered string by you: \")\n",
    "freq = St.count(Ch)\n",
    "print(\"The Frequency of\", Ch, \"is\", freq)\n",
    "\n",
    "print(\"Below are the frequency of each and every character present in the entered string by you\")\n",
    "for i in range(0,leng):\n",
    "    freq = St.count(St[i])\n",
    "    print(\"Frequency of\", St[i], \"is:\", freq)"
   ]
  },
  {
   "cell_type": "code",
   "execution_count": null,
   "id": "f3a707a0",
   "metadata": {},
   "outputs": [],
   "source": []
  }
 ],
 "metadata": {
  "kernelspec": {
   "display_name": "Python 3 (ipykernel)",
   "language": "python",
   "name": "python3"
  },
  "language_info": {
   "codemirror_mode": {
    "name": "ipython",
    "version": 3
   },
   "file_extension": ".py",
   "mimetype": "text/x-python",
   "name": "python",
   "nbconvert_exporter": "python",
   "pygments_lexer": "ipython3",
   "version": "3.9.7"
  }
 },
 "nbformat": 4,
 "nbformat_minor": 5
}
